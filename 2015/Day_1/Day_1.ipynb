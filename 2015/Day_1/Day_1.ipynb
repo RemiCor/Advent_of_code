{
 "cells": [
  {
   "cell_type": "code",
   "execution_count": 39,
   "metadata": {},
   "outputs": [
    {
     "name": "stdout",
     "output_type": "stream",
     "text": [
      "232\n"
     ]
    }
   ],
   "source": [
    "#Part 1\n",
    "with open('adventofcode.com_2015_day_1_input.txt','r') as f:\n",
    "    input = f.read().splitlines()\n",
    "\n",
    "floor = 0\n",
    "\n",
    "for string in input: \n",
    "    for caratere in string:\n",
    "        if caratere == '(':\n",
    "            floor +=1\n",
    "        else :\n",
    "            floor -=1\n",
    "print(floor)"
   ]
  },
  {
   "cell_type": "code",
   "execution_count": 40,
   "metadata": {},
   "outputs": [
    {
     "name": "stdout",
     "output_type": "stream",
     "text": [
      "1783\n"
     ]
    }
   ],
   "source": [
    "#Part 2\n",
    "with open('adventofcode.com_2015_day_1_input.txt','r') as f:\n",
    "    input = f.read().splitlines()\n",
    "\n",
    "floor = 0\n",
    "position = 0\n",
    "\n",
    "for string in input:\n",
    "    for caratere in string:\n",
    "        if caratere == '(':\n",
    "            floor +=1\n",
    "        else :\n",
    "            floor -=1\n",
    "        position = position + 1\n",
    "        if floor == -1:\n",
    "            break\n",
    "print(position)"
   ]
  }
 ],
 "metadata": {
  "kernelspec": {
   "display_name": "envtest",
   "language": "python",
   "name": "python3"
  },
  "language_info": {
   "codemirror_mode": {
    "name": "ipython",
    "version": 3
   },
   "file_extension": ".py",
   "mimetype": "text/x-python",
   "name": "python",
   "nbconvert_exporter": "python",
   "pygments_lexer": "ipython3",
   "version": "3.10.2"
  },
  "orig_nbformat": 4
 },
 "nbformat": 4,
 "nbformat_minor": 2
}
