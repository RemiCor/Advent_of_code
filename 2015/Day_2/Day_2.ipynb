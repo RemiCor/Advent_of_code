{
 "cells": [
  {
   "cell_type": "code",
   "execution_count": 69,
   "metadata": {},
   "outputs": [
    {
     "name": "stdout",
     "output_type": "stream",
     "text": [
      "1586300\n"
     ]
    }
   ],
   "source": [
    "#Part 1\n",
    "with open(\"adventofcode.com_2015_day_2_input.txt\", \"r\") as file:\n",
    "    input = file.read().splitlines()\n",
    "\n",
    "gifts = []\n",
    "\n",
    "def kdo(l,w,h):\n",
    "    surface = 2*(l*w+l*h+w*h) +  min(l*w, w*h, h*l)\n",
    "    return surface\n",
    "\n",
    "for line in input:\n",
    "    line = line.split(\"x\")\n",
    "    l = int(line[0])\n",
    "    w = int(line[1])\n",
    "    h = int(line[2])\n",
    "    surface = kdo(l,w,h)\n",
    "    gifts.append(surface)\n",
    "print(sum(gifts))"
   ]
  },
  {
   "cell_type": "code",
   "execution_count": 70,
   "metadata": {},
   "outputs": [
    {
     "name": "stdout",
     "output_type": "stream",
     "text": [
      "3737498\n"
     ]
    }
   ],
   "source": [
    "#Part 2\n",
    "with open(\"adventofcode.com_2015_day_2_input.txt\", \"r\") as file:\n",
    "    input = file.read().splitlines()\n",
    "\n",
    "total_ruban_fin = 0\n",
    "\n",
    "def calcul_ruban(l,w,h):\n",
    "    total_ruban = 0\n",
    "\n",
    "    plus_petit_perimetre = min(2*l + 2*w, 2*w + 2*h, 2*h + 2*l)\n",
    "    longueur_arc = l * w * h\n",
    "\n",
    "    total_ruban += plus_petit_perimetre + longueur_arc\n",
    "\n",
    "    return total_ruban\n",
    "\n",
    "for line in input:\n",
    "    line = line.split(\"x\")\n",
    "    l = int(line[0])\n",
    "    w = int(line[1])\n",
    "    h = int(line[2])\n",
    "    total_ruban_fin = total_ruban_fin + calcul_ruban(l,w,h)\n",
    "print(total_ruban_fin)"
   ]
  }
 ],
 "metadata": {
  "kernelspec": {
   "display_name": "envtest",
   "language": "python",
   "name": "python3"
  },
  "language_info": {
   "codemirror_mode": {
    "name": "ipython",
    "version": 3
   },
   "file_extension": ".py",
   "mimetype": "text/x-python",
   "name": "python",
   "nbconvert_exporter": "python",
   "pygments_lexer": "ipython3",
   "version": "3.10.2"
  },
  "orig_nbformat": 4
 },
 "nbformat": 4,
 "nbformat_minor": 2
}
