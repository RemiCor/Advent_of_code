{
 "cells": [
  {
   "cell_type": "code",
   "execution_count": 15,
   "metadata": {},
   "outputs": [
    {
     "name": "stdout",
     "output_type": "stream",
     "text": [
      "2572\n"
     ]
    }
   ],
   "source": [
    "#Part 1\n",
    "with open('adventofcode.com_2015_day_3_input.txt', 'r') as file:\n",
    "    input = file.read()\n",
    "\n",
    "def maison_visitees(directions):\n",
    "    coordonnees = (0,0)\n",
    "    maisons = set()\n",
    "    maisons.add(coordonnees)\n",
    "\n",
    "    for direction in directions:\n",
    "        if direction == \">\":\n",
    "            coordonnees = (coordonnees[0] + 1, coordonnees[1])\n",
    "        elif direction == \"<\":\n",
    "            coordonnees = (coordonnees[0] - 1,coordonnees[1])\n",
    "        elif direction == \"^\":\n",
    "            coordonnees = (coordonnees[0], coordonnees[1] + 1)\n",
    "        elif direction == \"v\":\n",
    "            coordonnees = (coordonnees[0], coordonnees[1] - 1)\n",
    "        \n",
    "        maisons.add(coordonnees)\n",
    "\n",
    "    return len(maisons)\n",
    "\n",
    "count = maison_visitees(input)\n",
    "print(count)"
   ]
  },
  {
   "cell_type": "code",
   "execution_count": 16,
   "metadata": {},
   "outputs": [
    {
     "name": "stdout",
     "output_type": "stream",
     "text": [
      "2631\n"
     ]
    }
   ],
   "source": [
    "#Part 2\n",
    "with open('adventofcode.com_2015_day_3_input.txt', 'r') as file:\n",
    "    input = file.read()\n",
    "\n",
    "def maison_visitees(directions):\n",
    "    coordonnees_santa = (0,0)\n",
    "    coordonnees_robot = (0,0)\n",
    "    maisons = set()\n",
    "    maisons.add(coordonnees_santa)\n",
    "\n",
    "    tour_santa = True\n",
    "\n",
    "    for direction in directions:\n",
    "        if tour_santa:\n",
    "            coordonnees = coordonnees_santa\n",
    "        else:\n",
    "            coordonnees = coordonnees_robot\n",
    "        \n",
    "        if direction == \">\":\n",
    "            coordonnees = (coordonnees[0] + 1, coordonnees[1])\n",
    "        elif direction == \"<\":\n",
    "            coordonnees = (coordonnees[0] - 1, coordonnees[1])\n",
    "        elif direction == \"^\":\n",
    "            coordonnees = (coordonnees[0], coordonnees[1] + 1)\n",
    "        elif direction == \"v\":\n",
    "            coordonnees = (coordonnees[0], coordonnees[1] - 1)\n",
    "\n",
    "        maisons.add(coordonnees)\n",
    "\n",
    "        if tour_santa:\n",
    "            coordonnees_santa = coordonnees\n",
    "        else:\n",
    "            coordonnees_robot = coordonnees\n",
    "\n",
    "        tour_santa = not tour_santa\n",
    "\n",
    "    return len(maisons)\n",
    "\n",
    "count = maison_visitees(input)\n",
    "print(count)"
   ]
  },
  {
   "cell_type": "code",
   "execution_count": null,
   "metadata": {},
   "outputs": [],
   "source": []
  }
 ],
 "metadata": {
  "kernelspec": {
   "display_name": "envtest",
   "language": "python",
   "name": "envtest"
  },
  "language_info": {
   "codemirror_mode": {
    "name": "ipython",
    "version": 3
   },
   "file_extension": ".py",
   "mimetype": "text/x-python",
   "name": "python",
   "nbconvert_exporter": "python",
   "pygments_lexer": "ipython3",
   "version": "3.10.2"
  },
  "orig_nbformat": 4
 },
 "nbformat": 4,
 "nbformat_minor": 2
}
