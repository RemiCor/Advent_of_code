{
 "cells": [
  {
   "cell_type": "code",
   "execution_count": 6,
   "metadata": {},
   "outputs": [
    {
     "name": "stdout",
     "output_type": "stream",
     "text": [
      "282749\n"
     ]
    }
   ],
   "source": [
    "#Part 1\n",
    "import hashlib\n",
    "\n",
    "#Fonction pour trouver le bon nombre d'adventcoins\n",
    "def nombre_adventcoin(cle_secrete):\n",
    "    nombre = 0\n",
    "\n",
    "    while True:\n",
    "        message = cle_secrete + str(nombre)\n",
    "        md5 = hashlib.md5(message.encode()).hexdigest()\n",
    "\n",
    "        if md5[:5] == \"00000\":\n",
    "            return nombre\n",
    "        \n",
    "        nombre += 1\n",
    "\n",
    "cle_secrete = \"yzbqklnj\"\n",
    "\n",
    "reponse = nombre_adventcoin(cle_secrete)\n",
    "\n",
    "print(reponse)"
   ]
  },
  {
   "cell_type": "code",
   "execution_count": 7,
   "metadata": {},
   "outputs": [
    {
     "name": "stdout",
     "output_type": "stream",
     "text": [
      "9962624\n"
     ]
    }
   ],
   "source": [
    "#Part 2\n",
    "import hashlib\n",
    "\n",
    "#Fonction pour trouver le bon nombre d'adventcoins\n",
    "def nombre_adventcoin(cle_secrete):\n",
    "    nombre = 0\n",
    "\n",
    "    while True:\n",
    "        message = cle_secrete + str(nombre)\n",
    "        md5 = hashlib.md5(message.encode()).hexdigest()\n",
    "\n",
    "        if md5[:6] == \"000000\":\n",
    "            return nombre\n",
    "        \n",
    "        nombre += 1\n",
    "\n",
    "cle_secrete = \"yzbqklnj\"\n",
    "\n",
    "reponse = nombre_adventcoin(cle_secrete)\n",
    "\n",
    "print(reponse)"
   ]
  }
 ],
 "metadata": {
  "kernelspec": {
   "display_name": "envtest",
   "language": "python",
   "name": "python3"
  },
  "language_info": {
   "codemirror_mode": {
    "name": "ipython",
    "version": 3
   },
   "file_extension": ".py",
   "mimetype": "text/x-python",
   "name": "python",
   "nbconvert_exporter": "python",
   "pygments_lexer": "ipython3",
   "version": "3.10.2"
  },
  "orig_nbformat": 4
 },
 "nbformat": 4,
 "nbformat_minor": 2
}
