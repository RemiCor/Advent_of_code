{
 "cells": [
  {
   "cell_type": "code",
   "execution_count": 80,
   "metadata": {},
   "outputs": [
    {
     "name": "stdout",
     "output_type": "stream",
     "text": [
      "238\n"
     ]
    }
   ],
   "source": [
    "#Part 1\n",
    "with open('adventofcode.com_2015_day_5_input.txt', 'r') as f:\n",
    "    lines = f.read().splitlines()\n",
    "\n",
    "#Déclaration de variables\n",
    "good = 0\n",
    "\n",
    "#fonction vérifiant que 3 voyelles sont bien dans la chaine\n",
    "def check_trois_voyelles(line):\n",
    "    compteur_voyelles = 0\n",
    "\n",
    "    for caractere in line:\n",
    "        if caractere.lower() in 'aeiou':\n",
    "            compteur_voyelles += 1\n",
    "            if compteur_voyelles >= 3:\n",
    "                return True\n",
    "        \n",
    "    return False\n",
    "\n",
    "#fonction vérifiant que la chaine possède 2 caractères qui se suivent\n",
    "def check_caractere_suivant(line):\n",
    "    for i in range(len(line)-1):\n",
    "        if line[i] == line[i + 1]:\n",
    "            return True\n",
    "    \n",
    "    return False\n",
    "\n",
    "#fonction qui vérifie qu'il n'y est pas de sous chaines interdites\n",
    "def check_sous_chaines_interdites(line):\n",
    "    sous_chaines_interdites = [\"ab\", \"cd\", \"pq\", \"xy\"]\n",
    "    \n",
    "    for i in range(len(line)- 1):\n",
    "        sous_chaine = line[i:i+2]\n",
    "\n",
    "        if sous_chaine in sous_chaines_interdites:\n",
    "            return False\n",
    "    \n",
    "    return True\n",
    "\n",
    "#Vérification des chaines bonnes ou mauvaises\n",
    "for line in lines:\n",
    "    first_check = check_trois_voyelles(line)\n",
    "    if first_check == True:\n",
    "        second_check = check_caractere_suivant(line)\n",
    "        if second_check == True:\n",
    "            third_check = check_sous_chaines_interdites(line)\n",
    "            if third_check == True:\n",
    "                good += 1\n",
    "\n",
    "print(good)"
   ]
  },
  {
   "cell_type": "code",
   "execution_count": 82,
   "metadata": {},
   "outputs": [
    {
     "name": "stdout",
     "output_type": "stream",
     "text": [
      "69\n"
     ]
    }
   ],
   "source": [
    "#Part 2\n",
    "#Déclaration de variables\n",
    "good = 0\n",
    "\n",
    "#fonction qui vérifie si une paire de lettres apparait deux fois\n",
    "def check_paire(line):\n",
    "    for i in range(len(line)-1):\n",
    "        paire = line[i:i+2]\n",
    "        if line.count(paire) >= 2:\n",
    "            return True\n",
    "    \n",
    "    return False\n",
    "\n",
    "#fonction qui vérifie si il y a une lettre qui se repette avec une lettre entre eux\n",
    "def check_caractere_apres(line):\n",
    "    for i in range(len(line)-2):\n",
    "        if line[i] == line[i+2]:\n",
    "            return True\n",
    "    return False\n",
    "\n",
    "##Vérification des chaines bonnes ou mauvaises\n",
    "for line in lines:\n",
    "    first_check = check_paire(line)\n",
    "    if first_check == True:\n",
    "        second_check = check_caractere_apres(line)\n",
    "        if second_check == True:\n",
    "            good += 1       \n",
    "\n",
    "print(good)"
   ]
  },
  {
   "cell_type": "code",
   "execution_count": null,
   "metadata": {},
   "outputs": [],
   "source": []
  }
 ],
 "metadata": {
  "kernelspec": {
   "display_name": "envtest",
   "language": "python",
   "name": "python3"
  },
  "language_info": {
   "codemirror_mode": {
    "name": "ipython",
    "version": 3
   },
   "file_extension": ".py",
   "mimetype": "text/x-python",
   "name": "python",
   "nbconvert_exporter": "python",
   "pygments_lexer": "ipython3",
   "version": "3.10.2"
  },
  "orig_nbformat": 4
 },
 "nbformat": 4,
 "nbformat_minor": 2
}
