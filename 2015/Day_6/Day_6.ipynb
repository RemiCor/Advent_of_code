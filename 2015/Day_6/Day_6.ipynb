{
 "cells": [
  {
   "cell_type": "code",
   "execution_count": 82,
   "metadata": {},
   "outputs": [
    {
     "name": "stdout",
     "output_type": "stream",
     "text": [
      "14239901\n"
     ]
    }
   ],
   "source": [
    "#Part 1\n",
    "import numpy as np\n",
    "import re\n",
    "\n",
    "with open('adventofcode.com_2015_day_6_input.txt', 'r') as f:\n",
    "    lines = f.read().splitlines()\n",
    "\n",
    "#fonction qui extrais les informations utiles\n",
    "def extraire_infos(instruction):\n",
    "    x1,y1,x2,y2 = map(int, re.findall(r'\\d+',instruction))\n",
    "    mot = instruction.split()\n",
    "    mot = mot[1]\n",
    "\n",
    "    return x1,y1,x2,y2,mot\n",
    "\n",
    "#fonction qui allume/eteind les bonnes lumières\n",
    "def lumieres(x1,y1,x2,y2,mot):\n",
    "    grille = np.zeros((1000,1000))\n",
    "\n",
    "    if mot == 'on':\n",
    "        grille[x1:x2+1, y1:y2+1] = 1\n",
    "\n",
    "    elif mot == 'off':\n",
    "        grille[x1:x2+1, y1:y2+1] = 0\n",
    "\n",
    "    else:\n",
    "        indices = grille[x1:x2+1, y1:y2+1]\n",
    "        indices_non_zero = indices.nonzero()\n",
    "        grille[x1:x2+1, y1:y2+1] = 1\n",
    "        grille[indices_non_zero] = 0\n",
    "        \n",
    "    return grille\n",
    "\n",
    "#Récupère le résultat\n",
    "resultat_total = 0\n",
    "for line in lines:\n",
    "    grille = lumieres(*extraire_infos(line))\n",
    "    resultat = np.count_nonzero(grille == 1)\n",
    "    resultat_total += resultat\n",
    "\n",
    "\n",
    "print(resultat_total)"
   ]
  }
 ],
 "metadata": {
  "kernelspec": {
   "display_name": "envtest",
   "language": "python",
   "name": "python3"
  },
  "language_info": {
   "codemirror_mode": {
    "name": "ipython",
    "version": 3
   },
   "file_extension": ".py",
   "mimetype": "text/x-python",
   "name": "python",
   "nbconvert_exporter": "python",
   "pygments_lexer": "ipython3",
   "version": "3.10.2"
  },
  "orig_nbformat": 4
 },
 "nbformat": 4,
 "nbformat_minor": 2
}
