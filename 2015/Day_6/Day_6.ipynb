{
 "cells": [
  {
   "cell_type": "code",
   "execution_count": 4,
   "metadata": {},
   "outputs": [],
   "source": [
    "#Part 1\n",
    "with open('adventofcode.com_2015_day_6_input.txt', 'r') as f:\n",
    "    lines = lines = f.read().splitlines()\n",
    "\n",
    "#Fonction qui analyse les instructions\n",
    "def analyser_instruction(instruction):\n",
    "    mots = instruction.split()\n",
    "\n",
    "    if mots[0] == 'toggle':\n",
    "        action = 'toggle'\n",
    "        x1, y1 = [int(coord) for coord in mots[1].split(',')]\n",
    "        x2, y2 = [int(coord) for coord in mots[3].split(\",\")]\n",
    "    else:\n",
    "        action = mots[0] + \" \" + mots[1]\n",
    "        x1, y1 = [int(coord) for coord in mots[2].split(\",\")]\n",
    "        x2, y2 = [int(coord) for coord in mots[4].split(\",\")]\n",
    "\n",
    "    return action, x1, y1, x2, y2\n",
    "\n",
    "#Fonction qui compte les lumières"
   ]
  },
  {
   "cell_type": "code",
   "execution_count": null,
   "metadata": {},
   "outputs": [],
   "source": [
    "def compter_lumieres(instructions):\n",
    "    grille = [[[False]] * 1000 for _ in range(1000)]\n",
    "\n",
    "    for instruction in instructions:\n",
    "        action, x1, y1, x2, y2 = analyser_instruction(instruction) "
   ]
  },
  {
   "cell_type": "code",
   "execution_count": null,
   "metadata": {},
   "outputs": [],
   "source": [
    "#Part 2"
   ]
  }
 ],
 "metadata": {
  "kernelspec": {
   "display_name": "envtest",
   "language": "python",
   "name": "python3"
  },
  "language_info": {
   "codemirror_mode": {
    "name": "ipython",
    "version": 3
   },
   "file_extension": ".py",
   "mimetype": "text/x-python",
   "name": "python",
   "nbconvert_exporter": "python",
   "pygments_lexer": "ipython3",
   "version": "3.10.2"
  },
  "orig_nbformat": 4
 },
 "nbformat": 4,
 "nbformat_minor": 2
}
