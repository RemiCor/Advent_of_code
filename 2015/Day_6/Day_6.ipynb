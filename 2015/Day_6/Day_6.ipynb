{
 "cells": [
  {
   "cell_type": "code",
   "execution_count": 4,
   "metadata": {},
   "outputs": [],
   "source": [
    "#Part 1\n",
    "with open('adventofcode.com_2015_day_6_input.txt', 'r') as f:\n",
    "    lines = lines = f.read().splitlines()\n",
    "\n"
   ]
  },
  {
   "cell_type": "code",
   "execution_count": 45,
   "metadata": {},
   "outputs": [
    {
     "name": "stdout",
     "output_type": "stream",
     "text": [
      "on\n"
     ]
    }
   ],
   "source": [
    "import numpy as np\n",
    "import re\n",
    "\n",
    "instruction = 'turn on 351,678 through 951,908'\n",
    "grille = np.zeros((1000,1000))\n",
    "\n",
    "x1,y1,x2,y2 = map(int, re.findall(r'\\d+',instruction))\n",
    "mot = instruction.split()\n",
    "mot = mot[1]\n",
    "\n",
    "grille[x1:x2, y1:y2] = 1\n",
    "\n",
    "np.count_nonzero(grille == 1)\n",
    "print(mot)"
   ]
  },
  {
   "cell_type": "code",
   "execution_count": null,
   "metadata": {},
   "outputs": [],
   "source": [
    "def turn_on(instruction, grille):\n",
    "    "
   ]
  }
 ],
 "metadata": {
  "kernelspec": {
   "display_name": "envtest",
   "language": "python",
   "name": "python3"
  },
  "language_info": {
   "codemirror_mode": {
    "name": "ipython",
    "version": 3
   },
   "file_extension": ".py",
   "mimetype": "text/x-python",
   "name": "python",
   "nbconvert_exporter": "python",
   "pygments_lexer": "ipython3",
   "version": "3.10.2"
  },
  "orig_nbformat": 4
 },
 "nbformat": 4,
 "nbformat_minor": 2
}
