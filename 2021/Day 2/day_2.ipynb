{
 "cells": [
  {
   "cell_type": "code",
   "execution_count": 1,
   "metadata": {},
   "outputs": [],
   "source": [
    "#Import data\n",
    "\n",
    "import re\n",
    "\n",
    "with open('input.txt', 'r') as f:\n",
    "    f = f.read()\n",
    "    f = f.split('\\n')"
   ]
  },
  {
   "cell_type": "code",
   "execution_count": 2,
   "metadata": {},
   "outputs": [
    {
     "name": "stdout",
     "output_type": "stream",
     "text": [
      "x : 1850 \n",
      "y : 927\n",
      "\n",
      "Réponse : 1714950\n"
     ]
    }
   ],
   "source": [
    "#Part 1\n",
    "\n",
    "x = 0\n",
    "y = 0\n",
    "\n",
    "for i in f:\n",
    "    parts = i.split(\" \")\n",
    "    if len(parts) != 2:\n",
    "        continue\n",
    "    part1, part2 = parts\n",
    "    part2 = int(part2)\n",
    "    if part1 == 'forward':\n",
    "        x += part2\n",
    "    \n",
    "    elif part1 == 'down':\n",
    "        y += part2\n",
    "\n",
    "    elif part1 == 'up':\n",
    "        y -= part2\n",
    "    \n",
    "    else:\n",
    "        raise(\"J'sais pas\")\n",
    "        \n",
    "print(f'x : {x} \\ny : {y}\\n\\nRéponse : {x*y}')"
   ]
  },
  {
   "cell_type": "code",
   "execution_count": 3,
   "metadata": {},
   "outputs": [
    {
     "name": "stdout",
     "output_type": "stream",
     "text": [
      "x : 1850 \n",
      "y : 692961\n",
      "aim : 927\n",
      "\n",
      "Réponse : 1281977850\n"
     ]
    }
   ],
   "source": [
    "#Part 2\n",
    "\n",
    "x = 0\n",
    "y = 0\n",
    "aim = 0\n",
    "\n",
    "for i in f:\n",
    "    parts = i.split(\" \")\n",
    "    if len(parts) != 2:\n",
    "        continue\n",
    "    part1, part2 = parts\n",
    "    part2 = int(part2)\n",
    "    if part1 == 'forward':\n",
    "        x += part2\n",
    "        y += aim * part2\n",
    "    \n",
    "    elif part1 == 'down':\n",
    "        aim += part2\n",
    "\n",
    "    elif part1 == 'up':\n",
    "        aim -= part2\n",
    "\n",
    "    else:\n",
    "        raise(\"J'sais pas\")\n",
    "\n",
    "print(f'x : {x} \\ny : {y}\\naim : {aim}\\n\\nRéponse : {x*y}')"
   ]
  }
 ],
 "metadata": {
  "kernelspec": {
   "display_name": "envtest",
   "language": "python",
   "name": "python3"
  },
  "language_info": {
   "codemirror_mode": {
    "name": "ipython",
    "version": 3
   },
   "file_extension": ".py",
   "mimetype": "text/x-python",
   "name": "python",
   "nbconvert_exporter": "python",
   "pygments_lexer": "ipython3",
   "version": "3.10.2"
  },
  "orig_nbformat": 4,
  "vscode": {
   "interpreter": {
    "hash": "9628f19f61b1694847a00a802a777673c54c16244b0b61f25ea1780659e04904"
   }
  }
 },
 "nbformat": 4,
 "nbformat_minor": 2
}
