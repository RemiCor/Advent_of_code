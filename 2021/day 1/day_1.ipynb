{
 "cells": [
  {
   "cell_type": "code",
   "execution_count": 19,
   "metadata": {},
   "outputs": [],
   "source": [
    "#Import data \n",
    "with open('input.txt', 'r') as f:\n",
    "    f = f.read().split()"
   ]
  },
  {
   "cell_type": "code",
   "execution_count": 22,
   "metadata": {},
   "outputs": [
    {
     "data": {
      "text/plain": [
       "1692"
      ]
     },
     "execution_count": 22,
     "metadata": {},
     "output_type": "execute_result"
    }
   ],
   "source": [
    "#Part 1\n",
    "count = 0\n",
    "f = list(map(int, f))\n",
    "\n",
    "for i in range(1, len(f)):\n",
    "    current = f[i]\n",
    "    previous = f[i - 1]\n",
    "    if current > previous:\n",
    "        count +=1\n",
    "    else:\n",
    "        pass\n",
    "count"
   ]
  },
  {
   "cell_type": "code",
   "execution_count": 28,
   "metadata": {},
   "outputs": [
    {
     "data": {
      "text/plain": [
       "1724"
      ]
     },
     "execution_count": 28,
     "metadata": {},
     "output_type": "execute_result"
    }
   ],
   "source": [
    "#Part 2\n",
    "new_list = []\n",
    "count = 0\n",
    "\n",
    "for i in range(len(f)):\n",
    "    try:\n",
    "        first = f[i]\n",
    "        second = f[i+1]\n",
    "        third = f[i+2]\n",
    "        new_element = first + second + third\n",
    "        new_list.append(new_element)\n",
    "    except:\n",
    "        pass\n",
    "\n",
    "for i in range(1, len(new_list)):\n",
    "    current = new_list[i]\n",
    "    previous = new_list[i - 1]\n",
    "    if current > previous:\n",
    "        count +=1\n",
    "    else:\n",
    "        pass\n",
    "count"
   ]
  }
 ],
 "metadata": {
  "kernelspec": {
   "display_name": "envtest",
   "language": "python",
   "name": "python3"
  },
  "language_info": {
   "codemirror_mode": {
    "name": "ipython",
    "version": 3
   },
   "file_extension": ".py",
   "mimetype": "text/x-python",
   "name": "python",
   "nbconvert_exporter": "python",
   "pygments_lexer": "ipython3",
   "version": "3.10.2"
  },
  "orig_nbformat": 4,
  "vscode": {
   "interpreter": {
    "hash": "9628f19f61b1694847a00a802a777673c54c16244b0b61f25ea1780659e04904"
   }
  }
 },
 "nbformat": 4,
 "nbformat_minor": 2
}
