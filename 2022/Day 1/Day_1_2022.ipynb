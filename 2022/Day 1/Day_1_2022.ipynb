{
 "cells": [
  {
   "cell_type": "code",
   "execution_count": 1,
   "metadata": {},
   "outputs": [
    {
     "data": {
      "text/plain": [
       "195625"
      ]
     },
     "execution_count": 1,
     "metadata": {},
     "output_type": "execute_result"
    }
   ],
   "source": [
    "top_3 = []\n",
    "List_tot = []\n",
    "Lines = []\n",
    "with open('input.txt', encoding = 'utf-8') as f:\n",
    "    for line in f:\n",
    "        if line != '\\n':\n",
    "            Lines.append(line)\n",
    "        else:\n",
    "            stripped = [s.strip() for s in Lines]\n",
    "            stripped = [int(i) for i in stripped]\n",
    "            nbr_tot = sum(stripped)\n",
    "            List_tot.append(nbr_tot)\n",
    "            Lines = []\n",
    "# Part 2\n",
    "List_tot = sorted(List_tot, reverse=True)\n",
    "top_3 = List_tot[:3]\n",
    "sum(top_3)"
   ]
  }
 ],
 "metadata": {
  "kernelspec": {
   "display_name": "Python 3.10.2 ('envtest')",
   "language": "python",
   "name": "python3"
  },
  "language_info": {
   "codemirror_mode": {
    "name": "ipython",
    "version": 3
   },
   "file_extension": ".py",
   "mimetype": "text/x-python",
   "name": "python",
   "nbconvert_exporter": "python",
   "pygments_lexer": "ipython3",
   "version": "3.10.2"
  },
  "orig_nbformat": 4,
  "vscode": {
   "interpreter": {
    "hash": "9628f19f61b1694847a00a802a777673c54c16244b0b61f25ea1780659e04904"
   }
  }
 },
 "nbformat": 4,
 "nbformat_minor": 2
}
