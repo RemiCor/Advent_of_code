{
 "cells": [
  {
   "cell_type": "code",
   "execution_count": 30,
   "metadata": {},
   "outputs": [
    {
     "name": "stdout",
     "output_type": "stream",
     "text": [
      "15572\n"
     ]
    }
   ],
   "source": [
    "# Part 1\n",
    "Lines = []\n",
    "Score = 0\n",
    "with open('input.txt', encoding= 'utf-8') as f:\n",
    "    for line in f:\n",
    "        Lines.append(line)\n",
    "        Lines = [s.strip() for s in Lines]\n",
    "AX_Score = Lines.count('A X') * 4\n",
    "BX_Score = Lines.count('B X') * 1\n",
    "CX_Score = Lines.count('C X') * 7\n",
    "AY_Score = Lines.count('A Y') * 8\n",
    "BY_Score = Lines.count('B Y') * 5\n",
    "CY_Score = Lines.count('C Y') * 2\n",
    "AZ_Score = Lines.count('A Z') * 3\n",
    "BZ_Score = Lines.count('B Z') * 9\n",
    "CZ_Score = Lines.count('C Z') * 6\n",
    "\n",
    "Score = AX_Score + BX_Score + CX_Score + AY_Score + BY_Score + CY_Score + AZ_Score + BZ_Score + CZ_Score\n",
    "print(Score)"
   ]
  },
  {
   "cell_type": "code",
   "execution_count": 31,
   "metadata": {},
   "outputs": [
    {
     "name": "stdout",
     "output_type": "stream",
     "text": [
      "16098\n"
     ]
    }
   ],
   "source": [
    "# Part 2\n",
    "Lines = []\n",
    "Score = 0\n",
    "with open('input.txt', encoding= 'utf-8') as f:\n",
    "    for line in f:\n",
    "        Lines.append(line)\n",
    "        Lines = [s.strip() for s in Lines]\n",
    "AX_Score = Lines.count('A X') * 3\n",
    "BX_Score = Lines.count('B X') * 1\n",
    "CX_Score = Lines.count('C X') * 2\n",
    "AY_Score = Lines.count('A Y') * 4\n",
    "BY_Score = Lines.count('B Y') * 5\n",
    "CY_Score = Lines.count('C Y') * 6\n",
    "AZ_Score = Lines.count('A Z') * 8\n",
    "BZ_Score = Lines.count('B Z') * 9\n",
    "CZ_Score = Lines.count('C Z') * 7\n",
    "\n",
    "Score = AX_Score + BX_Score + CX_Score + AY_Score + BY_Score + CY_Score + AZ_Score + BZ_Score + CZ_Score\n",
    "print(Score)"
   ]
  },
  {
   "cell_type": "code",
   "execution_count": null,
   "metadata": {},
   "outputs": [],
   "source": []
  }
 ],
 "metadata": {
  "kernelspec": {
   "display_name": "envtest",
   "language": "python",
   "name": "envtest"
  },
  "language_info": {
   "codemirror_mode": {
    "name": "ipython",
    "version": 3
   },
   "file_extension": ".py",
   "mimetype": "text/x-python",
   "name": "python",
   "nbconvert_exporter": "python",
   "pygments_lexer": "ipython3",
   "version": "3.10.2"
  },
  "orig_nbformat": 4,
  "vscode": {
   "interpreter": {
    "hash": "9628f19f61b1694847a00a802a777673c54c16244b0b61f25ea1780659e04904"
   }
  }
 },
 "nbformat": 4,
 "nbformat_minor": 2
}
