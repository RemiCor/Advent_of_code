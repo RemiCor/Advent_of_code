{
 "cells": [
  {
   "cell_type": "code",
   "execution_count": 1,
   "metadata": {},
   "outputs": [
    {
     "data": {
      "text/plain": [
       "7967"
      ]
     },
     "execution_count": 1,
     "metadata": {},
     "output_type": "execute_result"
    }
   ],
   "source": [
    "# part 1\n",
    "output = []\n",
    "Rucksacks = []\n",
    "with open('input.txt',encoding = 'utf-8') as f:\n",
    "    for line in f:\n",
    "        Rucksacks.append(line)\n",
    "        Rucksacks = [s.strip() for s in Rucksacks]\n",
    "    # separate the rucksacks in 2 egals compartments\n",
    "    for rucksack in Rucksacks:\n",
    "        compartment_1 = rucksack[:len(rucksack)//2]\n",
    "        compartment_2 = rucksack[len(rucksack)//2:]\n",
    "        # Check the same letter in compartements 1 and 2\n",
    "        common_element = list(set(compartment_1)&set(compartment_2))\n",
    "        # use ascci code to find the position of letters in alphabet\n",
    "        for element in common_element:\n",
    "            if element.isupper() == True:\n",
    "                number = ord(element) -64 + 26\n",
    "                output.append(number)\n",
    "            else:\n",
    "                number = ord(element) -96\n",
    "                output.append(number)\n",
    "sum(output)"
   ]
  },
  {
   "cell_type": "code",
   "execution_count": 17,
   "metadata": {},
   "outputs": [
    {
     "name": "stdout",
     "output_type": "stream",
     "text": [
      "[['lDDWVvlVVQfDMlWjGJTRjQCgTGLCLj', 'ZLZpwzLBhwZhSLBsjntGCtgJRjbnJgSG', 'qppdZzzsdsmZphrNsNwZhllDHLcVVDWFPvFWcWdFlv'], ['ztdhgJDBJghmQtPFQPpmbw', 'lVlLRcnfllcfVcccGnSQVLcsTPFbpwsPFspTSqmbpswpbF', 'cCHRGcGcCRGlGrGcVGnrdWHWBDzBNhhQZWWNBhJz'], ['NfnSSQpdnRSSpvWdSsjZDGNDjGDwTGTjHG', 'wlPzPqzPFbMmqPCFCJmbsjbHLDDHDZjDjbGHsT', 'gwMlgmtmPcqVVvhVnvcRnn'], ['cBNBBCHhbhNhblBcCCvcBHSwTwDQSqRwDQpDRsjHST', 'dPmzMVWdmmMnnZJtZVdqjTSrjTjrpQrsTTVwQRSj', 'qzmZMmdZPtnGqclblGlbGvgBFc'], ['ZfpmNDfRhzbbqDnD', 'SFtFjTTZVTFvVTjHrsVvqGBJqhnSSnbJznLGJwJq', 'TjdPPtdMPPWCcZgW'], ['qsbmGCsjHNhmhmhzTDznpnlQZlbWlZ', 'LTSSfSvggVVgBgfLtvvtTSczzpWnZQZnlnzpBcnWpQWc', 'FrLvrrrVPgdPftSHHdNsjTHjmGThhm'], ['wGQlMjvMwpvjvZjZTZlWjplWJJTggDTgfCnntPgTJPbtPgSP', 'qNhJmcVmdJqhHnPnDNtnPDCg', 'LrrchqhRdLVzRdmhJcFFQWGGMjpGlvZzlQQv'], ['ZqZMbZMfQZptpjlF', 'PJCggvHlwWHvSSvCJNvSPvDBtFDQThFQjtRQhhFTsVThQtsF', 'PwWCnBBCClcMMznMdG'], ['rNwwQJrJrnQswrQrRRwCShBSLndZpdnhpGFSdhBp', 'PvzzWVzbclGFhLFGdZll', 'VWjPWvbjcVbVcGVzjcgzgwQQRRRrqwRJQwwstCRR'], ['zjBMMzznjbssrBrMBbvHDmrlprlrpwGpwQDV', 'LhRwPPTLLNRZqScPWPWPTSmQvQQDGGdQHVDlmVpQGD', 'NtfhNwhLLNwRwRNcTBgnJMCBzsBFjsJfCz'], ['jZjsWNDlPfClfMlM', 'GjqbVSqjhgvgSVSBCPmMmCmfpwTBfh', 'nGbjqtqcGzsLDFcJLs'], ['ZQtmZdtdQcLndRncdQQLFjWWDHNPfhpnqhqsHNNDnpHs', 'TrMBGbJTwwlmDPPPWshWHfJq', 'wmVzbrwbwvBlBlVGtSVLSdFjdFtdjLVR'], ['LBhZFhRPbbnPddMdPPlD', 'NQszQNczlCSlJSsg', 'mwmrVQwpQVWwTlvBpHHHFhZj'], ['pzzDffWpQBzMpHvzMfRnTNhZdrdBcnLrcdrTLZ', 'msgJgtmbgmqJJcdrGcJjGn', 'bSVPgwntmVnngQWvWSSMpMMHWH'], ['gmGMDHHdpngdrGmGcwbNCCnNcbbCSLwL', 'zQPPPffQQlVlsPFQFzQchZZbLZNVcbqbNqbZgq', 'PRjQzfRgRfjQBTfJQTlPFRHWmmvmWHGWrWvWWtjrdHpD'], ['vfrHfqrLfLwwNHdvnthpnnFFpstn', 'gWcMclgmcRcWgDMWgBgGGFnntqQnGphdQhtbdFnh', 'qRWmRDlcDqWBBPwPNrZHrwSHjTfr'], ['HVVbhdCdndhZSShMzRrzSM', 'qBjWqvtWvDJjTjjGJtJtnqBvZMrgSGZlgfSgSRrMQGQRMgMR', 'wmwtJsvjtTJwsNnVsHpdnsHdds'], ['FCJNZDMPNCNvzqQJHqzGqv', 'hwjWcSTHwRpSWnQtGgQgGStgQQ', 'WpwhRHTRpcLRjwlwwTWBcWdlFbCrsPrrLCMDrZCFsCDPrZPM'], ['DJjjShSGhGDSNdpfrWWcLFzrDWrDlF', 'wtqZgwMBBPVMCBPQggMwqMMzfLlWrWLLzsWcFzTzVTzLss', 'tgtwQqZBQQZbBZtPgbHpNJnJShcmJppSHh'], ['tHrWmrdzzdHflmHmHrSmqswlqhqNgssMhGgghssn', 'pJcCBPPQPCcPpRpgwZNZBMnDhMsMBw', 'RJCvRRVcQpjLpCJPWrftWvSnrFffWbrz'], ['jzlwwzDzTlQftzlWjfrBGBgVHBgpgBtPGVtP', 'vhsshbMbNhZpgZrrrpHcZr', 'qhdMqqSLSSbSJMqqSwwjzFzmjFQQFfHzLQ'], ['gDhHNnphPPPNCprHFhHFdbdczzjNqbzjVcdbQTcc', 'tVJWBtVVZRWtjQbctjqcdj', 'RfvlGLvLLLlLMZBmZBRhHDVPnVHPHCgFCnhlpn'], ['RFhZFTZvFdjlqqlRNCPwSSPCNPBSwC', 'spHGswpnWgJLLJCPGg', 'cWpDrVVbWfWbVfbsdQqcQzjjzlhdwqll'], ['WWJPpQwWdQQPNpQvqlvvCblbvbvwLL', 'cmRMBMBTbSrTDRMcGBscTGfLZfvfvsCqhLlChZlLhfsC', 'TVbzGSMGVVgdpdPJpQ'], ['lwsFfsZWGsGmsnlGQcPdBBdMbcPHfcCN', 'RVvSLtSTrTVrTFPcBdCHRcPHbNNb', 'LrqzLFTLrgSJLLLtTgJjVJvWlDDnjDWnWWlhlGWGhZWZhn'], ['GQJCMGbrMbbCGrrGtcwhctGjNSvWpVVVRjNJqVqqBBRRJq', 'ssnglHHsnHzFmHnzHFPVDDSDRgVjvWDNpSSNpB', 'PZfHmndFzzfPZPZfCdwchwGcbwwhCdMW'], ['DRGVQGmGQVnnGVmnnFpNbzCNRbRttCbpLztC', 'qdqHBdjTqPlcTchBjJMvvvLtLCcLggLvtmgb', 'fqhlHjdwqjjJTwldDmDmrGrrWFrDGZwD'], ['wFscLVLrrVhwWgZPrcswgZWFTnQdtTMnpQtjdpqdqvqQMt', 'JRbHmmbDDSzDmDNpTnBBdpMHQtqtvp', 'JmCCbvRGzbbGJsLgZsVhgLwwGW'], ['WDQwsBzWbBlMjdVpzTJVMj', 'fncRngntnPCpJgmdFpFWgm', 'RGZPZtZCfvWSvRZGSLvPccHwsrHbwHLrwHHQQsBDbllB'], ['PlNZhwgpppccgrqVvttbBfrlls', 'CznSDDdHDRnRStVsVfDvfrtDZq', 'QCddZFSFLTmccQmw'], ['rnwfVnclGPPFfSPSqBWZvvBBWqZvqWFh', 'zLgLQgJssspmQTJmsgjZNmqqzqdHbthDdDDWHbhqBBqb', 'QgmmjpNgCCZpjJLpmTrfrSrVRPfnrClfPwnS'], ['zDzPPwvwqvPPBqjnqvDqBffSfcSNJpNVfccLLNffBR', 'MdTMZbgbmmTWGGdmssRCSNsSNVVVcJsNppsC', 'MJghbhHhbtMMdWhbJhHgdmWvnFzHDQPDjQDvHHwvQwvzwF'], ['gGbqqRDrqDMdcBpVlpMG', 'WzhPCnWfqMcpBnnNLZ', 'fCqPHHJCfJhStwhWHbrrgvjFgbQbSbmbQs'], ['fhcchnSpfsNpjVVqnqjrGHqq', 'zzlFLlPLWdggFqRBjqsrHrBTzz', 'FDwgFLZWlbbchpwshsCNcw'], ['CmPlqqRJDHRDDsFv', 'MfSpBQQNNfBfrfVZsmVVdzzrHZmH', 'QSBSLSgmQBmwPCtgClhjPP'], ['NPNsHHHNsPsvHwDqgpwlqt', 'rTRWSRrWRzgTzZrRVVLRQzjpbtmmGLlGDDbDwwmtblvDvw', 'nRzSRrjSVRrnjrgZfrfzNdPdMPBfBMhJhhBcPhcJ'], ['LLhzQSDHDHNpNzHHJBQBMvMBqBRJBBqw', 'rmbdtmlWCCMnvJrn', 'FTVdmVgtjdtbWsvjjmdLSDcgHpDzShzDLPLSHh'], ['VFFJQVWHtQVHHWbJRRRHwqPvpMLpLZZWLwlwMllL', 'jsngsdGssLvlqnZqZw', 'hhmfDjDsmDNjjNRNVqNVJRtQHJ'], ['jvTnffrgFTwvqMzqGdMMSW', 'sPbCtCCQQLffZGdWNLWDDzLzGM', 'PQPBBtfZCZsmJPPplwwmTwpcTcmcgj'], ['NBmBRCCsBTRNTndGdswnlwvwnw', 'fvbqrbPLqpGwScGGwbbb', 'HJDPJFJLJtpJHCvCFBBBBNNWvF'], ['HJHgNQJBSlRRbJDRDb', 'RptsfnshscWMLMZDZp', 'njmrnPznnsTRTtPzFzRTswgQwqvVVwBNwwvjqCHqHq'], ['CBMgBJCTNgQcsQspPpWjRrWrsWsn', 'mwLvHLGbdHbGzSHmvmvHzrhjjjPptjWGqZPPZhPRWWGP', 'vbbrLFwLFDJFDfFN'], ['TnPvZSnQgQPHnnnQvgMSWppWNfWRpWfMtthMNDhN', 'wLJmLBmGFBFdLBbCBbVCVlsGsWhtHqthRRhqhtHHGqqf', 'LmHLbCjjBLVZzZSgzQgjrc'], ['wdSwfpBhtFbStpftjSVhBwFrGrsQnQgnGrQmqCPmDrmmDb', 'zJvzLJLNZNscLzNHHLrGPvGGPrDDqGgDPDgC', 'RWsNNRMsHTHLHTlMczLHZLWtpFwfpthSjFtwFhjSVplwtj'], ['QbrBDLGGRJMQJQJDbQbGvNscWNnTdvnvtnLcccvl', 'fqZgpVPZHPmfgPPjBFgcscvNNccdddtdNvdFTs', 'CgPpghfjjPgVmfBMMCRJQQJzJBwM'], ['jLWDqLdWdwLfHwJwzSSfwS', 'gCgRRltMrlrCcCMzcBSVfZQfVNZNVSBVNNNh', 'gMrcPntccGgzgTMlMPrtDWFvLqqdLnDsmLLFFqvp'], ['ttHJNccRRwmnsnHnHWMSwqfgvgfwSQZfQf', 'ShpLhhzTPBMpQqQgvM', 'zhbFjVdrjFjVljrVbdPddSTPHNssHnHlRNCHtRtsctJtGsRJ'], ['zMVTscVhQhGGhClv', 'LfMJmgSBpLRfHmBPgpmJPSBdvQNtlHvrHvNNtNNNClGdGN', 'JFJmmSFFbFFbRJPBgFPmSBPMzzWWTDjjTsTqqwjVWbjjVVsZ'], ['HZpCnwnggfFggbgLDcTb', 'SjvWjGzNGGzRjSGmMcLhvhMhFMCcmv', 'rjrVJNjVrzVNPrwtPwPCHBPB'], ['SWwFbTzsSjPzpjFbsWPTWTcWLCLgLgLBZjGVDjCVBBgCBGCZ', 'lrJJttQcHqrHrvggHVBgBLffBC', 'lnhhcqNRJWzhTdsWFz'], ['vzldvzlclbFjFvmtjZ', 'DDNMNStMsSsGnhSMwQjTQVgVbwMbVTTQ', 'DsDSCNNGpLtsNLpnNsqLppDzCBcdJHBzllcJfzJBPBdBlR'], ['qWNfDvffbJBFDpNfmpbwhGhwjLgTrGwhbGGwrj', 'ZctMVCcVVQtTpthlnLtppw', 'QMcRSPMZcpCZqDFNRFHNJFFF'], ['RmztpGSssNMzJRpCvqsCrqdHCBlBdw', 'gffPFDcqVbgqWgjlPlwCCrdBdllnBH', 'cFFZcbcqfQhgbcNJZRSMRtmNJptS'], ['PZthPBWlPNPSPtmHHggFGgBJJbwg', 'qqzDvLLrfDpvvDLzqvnLzqpzbrCRGJRHwFCmHRwGwgwbbRCj', 'nnpnMfpMLTVqfmthmsMNSScMhS'], ['dflvbdvpfffzpnNLNbWqtblqHjmVhVRhHrwrwrswhHnjsmwh', 'gSGMdMcJBgMTGPSPDVZhHhHZmDZhrwwjVm', 'CPJQGBGGPcSTFcTCScFtLLdWvptWLbNpNzvWQL'], ['WThqhvvRDJDRhwcrscNDNFgDHNct', 'fnrZVnfVjrSGGLzZbnLzZLjVHstHHHQtgQbPpPcpHsscsFpN', 'SVjZSzZdndVCdSSZmTRvMWBRWvvWlrvmhJ'], ['BcllhPPmMMBPcbRwgQtgHHgtmwgzmt', 'rpLqbrbTnNvqjLqLNqrNLvHzDtwpDCzFwggttFFHCQFQ', 'LrrrNLqjZSTsZZsvjbLjPhcBBlBsBcGPPcPlPVGP'], ['HHhrggvSHDtCDsfF', 'ZMpLblppNZBDBwLzLLpMssCntfWdCFCnfCCtRNtq', 'lbmJlzzLMPMmlBzhSJVccSJhTvSTDh'], ['sdjBBFqHscFnHTzCnRSnzgVTlC', 'LpWWtvZfrpbLpZpWftprLCCNMzCZMmmzTNNTmSSVSM', 'pLVtrtbGvpbpGLfPddHBscBQJJGcwsQq'], ['hLcLnVVcfQBLZPVZnThfVVmjqjHNjgvNfdvpNdrrvvfp', 'lbRlWFHJtGNGpqmrqrCN', 'DzRRDFsbDtFtDJtWRztzJZVBQMhTsLhQZMZHVLcLcP'], ['WgbdmgMmWDDvcPcpbz', 'jffpllHSpHRptRRGRntSVwvLSCCJDzcCcDLvCzPP', 'tRFrnlGfZrQpBpgQQsgF'], ['TpbBZbCCHCGZNHbzGqgFdNlcFSdNlStSqg', 'wvWnWwLCPjJPJhMWtWdMfFSMgcdM', 'hhmvmJrJLJJJPvvhDjswCRGHHrHzBBHGVRQBzRRQ'], ['zChCSBbpSsQscDHHQh', 'LNJJRgGltJDvfcrfgHfZ', 'lJNRGlLnNJtTGVMlFTbwSWqjBbzWWHSW'], ['NDTJQDVwCTCJhVGDLfbBbBfbGqbfHBfBHb', 'lMgMrggMrmmtzMcgWdlmMlbsRjSRBsTRBWsSHSBTHRBj', 'cMPlgztzrPMznnMPpgddgdzpwDDNNwhNFCTwNZQFLTVTwV'], ['ZgshQgzQnnwMtDwBwv', 'SFWFlFZRRcmlWmWRBCDwvwwftBtLmfLf', 'PjRFdTdWGddrGlPjcsJZpJzTqhzQJzNHhz'], ['PgHQgddszgdGPWpMjljMcj', 'bSqTqnZLnDJSmnmZmtllGsnVtnWjGGWtjl', 'fqSLDbRSfBdHsRwsFdHd'], ['RwHWZpCWhHvwvHCBMBpJMJGPJJnJgc', 'lztljTFljRRBBzBnBMnJMS', 'QbRljFtQfljbbFqNFrdZVrZfdCCwVwvddH'], ['sHzztVzLTgnssPggHHsnCtzBmfBMrMccBBmqmrBqBCRqMf', 'ZhDQJhFDqjmSMrRF', 'dZpwDhNhhZpQJdDQpwnsGttGwLtRRTLRts'], ['QJNhClVgPTTtPNCJJCtJhlNPZZRVZfvfzZzmvvzvsmZsvmzR', 'blBWBpdbLBDqBpszzffRsvdzjvvd', 'BLWpqBbqnDHqBbGlnWGBPcPJcHTTPrhtgNtCtgPc'], ['jWVJqVwgsJcHCVlQVVQNBp', 'vGhGhTPtSSNCddSBCH', 'ZCCDtbDftZsqrrcnWW'], ['hJThjThhVzVTZZwnNZRdgmzt', 'lrbSSddsrbPQpsvNtgPRmtHmvtnR', 'GQrspWdSGbDcsFFLBhCGVBjhjj'], ['rHdlHdZDlTcflcNfcrCgcTWWpWQFsRWsFjRCsCjWCmhF', 'BnqbvQPLGLBPwqGmsVshsSWShGms', 'PzzPPQJPMJtJbbznPnDdrHlNldDNltrgtfDg'], ['SmmMQhPSlmTwPpmnpllMSMPrccFDqFrDFGgqrDcCwfDgwq', 'bVdLLNvdQWVbJbQLVGfGDGfDgrFrqgqJgg', 'vjjWsbQdBsszhsHlhhPPSHsM'], ['PqzJqNzsJgsgNqPdLJPPPNVpMMVWGlFWNFGMpWppGF', 'ZnZBjttQZcQZRTQDjQwGFlWMlGdGWVrWWlGn', 'ZRDBRSZDSdSLsqJHfSbzzL'], ['rljJqtZlJqlJcvBNJBNQfQ', 'TVMWznvPMTFWznwPFFvwFbbBNBgbcNpQdNcBFQpb', 'mDnLWsPLvLMnnnmTzLzVCtlRRtjSljCZhDlhtqSq'], ['fgWMHClGMWfgRWWWGCfmfgCSVQNTDFHTtddVQQDZNLDZtVVL', 'wSqbsvzpwpbpdFTNLQwLNTFN', 'zscjPnPqsJlmPJCJSC'], ['GZSwQjGwGrCGwrTjdCTwdTBpqqlmNmVpNrNvplJqNNpl', 'zMfJnDcbRRDRFbzDFRLFBtqNmqqtNBmNBvNm', 'sHcJRRHzzfQTjjCjQjCH'], ['wJCVVbJgCLCwGsMbbGTlsRWHsztZPZWtPrPrWrHzrz', 'DBqdvfqDBqFpWZFrtppZJp', 'djqNfQcjDQjMgbbwLjlJGn'], ['TSwfZMfpQwcCCCCrbbCZ', 'PLJmGJnjqjrsCjMMVj', 'LnNNLLLnFFWmLFMGNMDgfRpDQSfwSfgQzBHwTS'], ['CdjNCMmdCrVmCjJdVjFNMtMzhWwpGbpBhPZZZDbGPpDhpr', 'QSfHzlvgTQffSSHHclgfHnqPbPPPppBhpWDhwWvPhvbwwh', 'cQfQRgQnQsnsQSgHRQJsCFMsCjLzJJFjCdNC'], ['ltLlJttmQdfVRhNmhB', 'gWWDrPSvCSWgMMMZBVBdTQPQZNZVPR', 'vCbwQzcQrCrLFHwJpHHGpp'], ['VbRVvVHRbJVTzVLBVPtt', 'cSdgSZSZZFhnFcFwdDQcZZhgzpTlzLDzlWTvBWLztBtpLplT', 'hZZvdrcSZQZSSwncdHCqHmGHqJrCJqbNbq'], ['lwWmsQlDbCZbVWZq', 'rRShhhhPjTsjTRvHhqfzqfqvBZZvBCZffC', 'scPThhRSjQmmNpplcg'], ['FChtDTThDqZtjppjvgNvjl', 'LBwsVdVHLVvvpVGjjgjS', 'BbHLBfRcsHcBdMbdWJQPWFCQCZZhWrJPQp'], ['zMtWCstzNrQLpbplFwQwhb', 'gDTDHGvvHVfVdGZVJGDGdnmbwmWFwfhpbnfjwwjpLl', 'GJcHVJdvZJVGZWHSSvTZMCzrzzRNSBtBNPBMqNBB'], ['pLzZVVGGZmZVlmDsQglgsllc', 'WSvrjRjrMMFFnFjnrnrdjBRRgdsblQQPbpggsclNDDbPstDs', 'SMWRBrrrvSRBSSvWWWBTMTCqpZzLCCTCwJZwwzGZzqHL'], ['TvfGwGZpPnSNgSSnGh', 'srLVHLcjsjVtHqjjrjFjcCqPBggqNQQnMqhgngnznNNB', 'VtdmPHLmtVHFLdmZWRJlWpWWWlmWfp'], ['SbSbdTsrVrdhfSdDGJWGmNwWWPwTGP', 'BqlRpBMmllpmnpvvDJPZWPJwZcJgDD', 'FFRMCnRFtCMRlMplqMBRBppVbtzdrdhssrmHzVVSsVhVHz'], ['dNrhhLsrshSmmRcPhm', 'WMCngCzCvzvMMpplQvzWlRBPcVStSmTSQbbVSPQmwm', 'MpzvWnllglJfqfMgsNdZHqNjdDsPHqqZ'], ['rNvGZRsRcRRBtBCttB', 'DwPPQWnWWnPQnJlPhmTtBFBmqzhpmnFh', 'QwQQQlbPPMWwDdDwlVDJJPPdvdSjrjdrsgssLLsZLNBrNNNr'], ['VjMMVzngnjQQfJDchZqGNqFPcg', 'SWBwTtWSFTHwFClHHmwBPcJJDhNGPJNPPhPPGhJt', 'CBvSBBBWHdmRTvRWRQFLQRnjnfLLzVbs'], ['flSpvLlmZpCpZmVSBtlvHHjFHTdssZdjHFdTWdNh', 'RmQMQJRQJQmPgrzJrPcRQRJcWdNTGTGGFhGTdFhHThHGMTsF', 'RzJrqqcqPRqqJDDqttCpmtlwBpDflSLt'], ['hBjPZbPBbWvTRnLRWntD', 'MNGQNsQwfzsdGfgTGfzQwwffmnCRDVmJLRLCvnvLDvJCDgRL', 'wTTdFldNHzTMljjFqphrBqhrZb'], ['wDcMCbZbzPDcZDWQdrJLrQrZBLRBQr', 'FFSHStjtHgllgFdSNmlfFStBqRRssRsRJrLrjrrJBRVhLJ', 'fGggtfHtgWMwbCGdCT'], ['RQrQDDbVGrRSfbVbGtmGtwHFWsCCzsJSJJHsJPJvWC', 'hphQnhZQNjlBBcMMpCsHwFjvvHWHWsFvjC', 'ppcnnBZqllTQfmrffbtGTDGt'], ['dsDFsBZBhCFhshFrpBFnmLQmHmRgRbLqmmmRQDLm', 'PPBBNNNtGTwJNfTJffNttfLQgqLgHvHbqRwlgmblRvll', 'NSNTGTJTWPjGWMPSJJzrBSpzdFSddCFdncrs'], ['bPzRlMPTzTMldJMnhswcjzfQVccQhc', 'HCCqNmNmQQmQssJn', 'pHptprtgRStTtMJt'], ['nTmhrsPMsTfmHHGcSgtj', 'bJJwdlrJQLlvwlQDDwSbgffGVNjfgjNtVbcf', 'QlpDQFJdvdFqJdFpLvDFpLLnzZMnBMRRzMTqnrzqTRPznz'], ['qRVRqBzgwqRpqRgVqQRPpQJJPrPhPGJnsGrCFdFJrZdG', 'ZvWDmMvmSvCndssrsJ', 'WcZcNWlcMjBQpzNTqVBp'], ['DpLPZLDDlcgmDmhVgfgfWWRwhwwt', 'VrVMdbCrrBTjCMQQtMwQNSqMQW', 'VCBHdJHdvrrFsbsdrBJTdTzZcpmZGDGPlmzmlccFDZDn']]\n"
     ]
    }
   ],
   "source": [
    "# part 2\n",
    "Rucksacks = []\n",
    "with open('input.txt',encoding = 'utf-8') as f:\n",
    "    for line in f:\n",
    "        Rucksacks.append(line)\n",
    "        Rucksacks = [s.strip() for s in Rucksacks]\n",
    "    # split elves in group of 3\n",
    "    for rucksack in Rucksacks:\n",
    "        group = [Rucksacks[idx:idx+3] for idx in range(0, len(Rucksacks), 3)]\n",
    "print(group)"
   ]
  },
  {
   "cell_type": "code",
   "execution_count": null,
   "metadata": {},
   "outputs": [],
   "source": []
  }
 ],
 "metadata": {
  "kernelspec": {
   "display_name": "envtest",
   "language": "python",
   "name": "envtest"
  },
  "language_info": {
   "codemirror_mode": {
    "name": "ipython",
    "version": 3
   },
   "file_extension": ".py",
   "mimetype": "text/x-python",
   "name": "python",
   "nbconvert_exporter": "python",
   "pygments_lexer": "ipython3",
   "version": "3.10.2"
  },
  "orig_nbformat": 4,
  "vscode": {
   "interpreter": {
    "hash": "9628f19f61b1694847a00a802a777673c54c16244b0b61f25ea1780659e04904"
   }
  }
 },
 "nbformat": 4,
 "nbformat_minor": 2
}
