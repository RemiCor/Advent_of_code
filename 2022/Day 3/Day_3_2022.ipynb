{
 "cells": [
  {
   "cell_type": "code",
   "execution_count": 47,
   "metadata": {},
   "outputs": [
    {
     "data": {
      "text/plain": [
       "7967"
      ]
     },
     "execution_count": 47,
     "metadata": {},
     "output_type": "execute_result"
    }
   ],
   "source": [
    "output = []\n",
    "Rucksacks = []\n",
    "with open('input.txt',encoding = 'utf-8') as f:\n",
    "    for line in f:\n",
    "        Rucksacks.append(line)\n",
    "        Rucksacks = [s.strip() for s in Rucksacks]\n",
    "    # separate the rucksack in 2 egals compartments\n",
    "    for rucksack in Rucksacks:\n",
    "        compartment_1 = rucksack[:len(rucksack)//2]\n",
    "        compartment_2 = rucksack[len(rucksack)//2:]\n",
    "        # Check the same letter in compartements 1 and 2\n",
    "        common_element = list(set(compartment_1)&set(compartment_2))\n",
    "        # use ascci code to find the position of letters in alphabet\n",
    "        for element in common_element:\n",
    "            if element.isupper() == True:\n",
    "                number = ord(element) -64 + 26\n",
    "                output.append(number)\n",
    "            else:\n",
    "                number = ord(element) -96\n",
    "                output.append(number)\n",
    "sum(output)"
   ]
  },
  {
   "cell_type": "code",
   "execution_count": null,
   "metadata": {},
   "outputs": [],
   "source": []
  }
 ],
 "metadata": {
  "kernelspec": {
   "display_name": "Python 3.10.2 ('envtest')",
   "language": "python",
   "name": "python3"
  },
  "language_info": {
   "codemirror_mode": {
    "name": "ipython",
    "version": 3
   },
   "file_extension": ".py",
   "mimetype": "text/x-python",
   "name": "python",
   "nbconvert_exporter": "python",
   "pygments_lexer": "ipython3",
   "version": "3.10.2"
  },
  "orig_nbformat": 4,
  "vscode": {
   "interpreter": {
    "hash": "9628f19f61b1694847a00a802a777673c54c16244b0b61f25ea1780659e04904"
   }
  }
 },
 "nbformat": 4,
 "nbformat_minor": 2
}
