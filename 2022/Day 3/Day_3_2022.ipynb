{
 "cells": [
  {
   "cell_type": "code",
   "execution_count": 1,
   "metadata": {},
   "outputs": [
    {
     "data": {
      "text/plain": [
       "7967"
      ]
     },
     "execution_count": 1,
     "metadata": {},
     "output_type": "execute_result"
    }
   ],
   "source": [
    "# part 1\n",
    "output = []\n",
    "Rucksacks = []\n",
    "with open('input.txt',encoding = 'utf-8') as f:\n",
    "    for line in f:\n",
    "        Rucksacks.append(line)\n",
    "        Rucksacks = [s.strip() for s in Rucksacks]\n",
    "    # separate the rucksacks in 2 egals compartments\n",
    "    for rucksack in Rucksacks:\n",
    "        compartment_1 = rucksack[:len(rucksack)//2]\n",
    "        compartment_2 = rucksack[len(rucksack)//2:]\n",
    "        # Check the same letter in compartements 1 and 2\n",
    "        common_element = list(set(compartment_1)&set(compartment_2))\n",
    "        # use ascci code to find the position of letters in alphabet\n",
    "        for element in common_element:\n",
    "            if element.isupper() == True:\n",
    "                number = ord(element) -64 + 26\n",
    "                output.append(number)\n",
    "            else:\n",
    "                number = ord(element) -96\n",
    "                output.append(number)\n",
    "sum(output)"
   ]
  },
  {
   "cell_type": "code",
   "execution_count": 16,
   "metadata": {},
   "outputs": [
    {
     "ename": "AttributeError",
     "evalue": "'list' object has no attribute 'intersection_update'",
     "output_type": "error",
     "traceback": [
      "\u001b[1;31m---------------------------------------------------------------------------\u001b[0m",
      "\u001b[1;31mAttributeError\u001b[0m                            Traceback (most recent call last)",
      "Cell \u001b[1;32mIn [16], line 12\u001b[0m\n\u001b[0;32m     10\u001b[0m         common_elements \u001b[39m=\u001b[39m group[\u001b[39m0\u001b[39m]\n\u001b[0;32m     11\u001b[0m         \u001b[39mfor\u001b[39;00m l \u001b[39min\u001b[39;00m group[\u001b[39m1\u001b[39m:]:\n\u001b[1;32m---> 12\u001b[0m             common_elements\u001b[39m.\u001b[39;49mintersection_update(l)\n\u001b[0;32m     14\u001b[0m \u001b[39mprint\u001b[39m(common_elements)\n",
      "\u001b[1;31mAttributeError\u001b[0m: 'list' object has no attribute 'intersection_update'"
     ]
    }
   ],
   "source": [
    "# part 2\n",
    "Rucksacks = []\n",
    "with open('input.txt',encoding = 'utf-8') as f:\n",
    "    for line in f:\n",
    "        Rucksacks.append(line)\n",
    "        Rucksacks = [s.strip() for s in Rucksacks]\n",
    "    # split elves in group of 3\n",
    "    for rucksack in Rucksacks:\n",
    "        group = [Rucksacks[idx:idx+3] for idx in range(0, len(Rucksacks), 3)]\n",
    "        common_elements = group[0]\n",
    "        for l in group[1:]:\n",
    "            common_elements.intersection_update(l)\n",
    "\n",
    "print(common_elements)"
   ]
  },
  {
   "cell_type": "code",
   "execution_count": null,
   "metadata": {},
   "outputs": [],
   "source": []
  }
 ],
 "metadata": {
  "kernelspec": {
   "display_name": "envtest",
   "language": "python",
   "name": "envtest"
  },
  "language_info": {
   "codemirror_mode": {
    "name": "ipython",
    "version": 3
   },
   "file_extension": ".py",
   "mimetype": "text/x-python",
   "name": "python",
   "nbconvert_exporter": "python",
   "pygments_lexer": "ipython3",
   "version": "3.10.2"
  },
  "orig_nbformat": 4,
  "vscode": {
   "interpreter": {
    "hash": "9628f19f61b1694847a00a802a777673c54c16244b0b61f25ea1780659e04904"
   }
  }
 },
 "nbformat": 4,
 "nbformat_minor": 2
}
