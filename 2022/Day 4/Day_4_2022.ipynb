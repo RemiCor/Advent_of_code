{
 "cells": [
  {
   "cell_type": "code",
   "execution_count": 115,
   "metadata": {},
   "outputs": [],
   "source": [
    "# Part 1\n",
    "import re\n",
    "\n",
    "rows = []\n",
    "Assignment = []\n",
    "\n",
    "with open('input.txt','r') as file:\n",
    "    for row in file:\n",
    "        rows.append(row)\n",
    "rows = [s.strip() for s in rows]\n",
    "\n",
    "for assignments in rows:\n",
    "    Assignment.append(re.split('[,-]',assignments))\n",
    "\n",
    "Assignment = [list( map(int,i) ) for i in Assignment]"
   ]
  },
  {
   "cell_type": "code",
   "execution_count": 120,
   "metadata": {},
   "outputs": [
    {
     "data": {
      "text/plain": [
       "605"
      ]
     },
     "execution_count": 120,
     "metadata": {},
     "output_type": "execute_result"
    }
   ],
   "source": [
    "count = 0\n",
    "for i in range(len(Assignment)):\n",
    "    for j in range(0,len(Assignment[i]),4):\n",
    "        if Assignment[i][j] < Assignment[i][j+2] and Assignment[i][j+1] > Assignment[i][j+3]:\n",
    "            count += 1\n",
    "        elif Assignment[i][j] > Assignment[i][j+2] and Assignment[i][j+1] < Assignment[i][j+3]:\n",
    "            count += 1\n",
    "        elif Assignment[i][j] == Assignment[i][j+2] and Assignment[i][j+1] > Assignment[i][j+3]:\n",
    "            count += 1\n",
    "        elif Assignment[i][j] < Assignment[i][j+2] and Assignment[i][j+1] == Assignment[i][j+3]:\n",
    "            count += 1\n",
    "        elif Assignment[i][j] == Assignment[i][j+2] and Assignment[i][j+1] == Assignment[i][j+3]:\n",
    "            count += 1\n",
    "        elif Assignment[i][j] > Assignment[i][j+2] and Assignment[i][j+1] == Assignment[i][j+3]:\n",
    "            count += 1\n",
    "        elif Assignment[i][j] == Assignment[i][j+2] and Assignment[i][j+1] < Assignment[i][j+3]:\n",
    "            count += 1\n",
    "        else:\n",
    "            pass\n",
    "count"
   ]
  },
  {
   "cell_type": "code",
   "execution_count": 129,
   "metadata": {},
   "outputs": [
    {
     "data": {
      "text/plain": [
       "914"
      ]
     },
     "execution_count": 129,
     "metadata": {},
     "output_type": "execute_result"
    }
   ],
   "source": [
    "# Part 2\n",
    "overlap = 0\n",
    "with open('input.txt','r') as file:\n",
    "    lines = file.readlines()\n",
    "    assignment = [entry.strip() for entry in lines]\n",
    "\n",
    "for pair in assignment:\n",
    "    first, second = pair.split(',')\n",
    "    start_a, end_a = map(int, first.split('-'))\n",
    "    start_b, end_b = map(int, second.split('-'))\n",
    "    if start_a in range(start_b, end_b+1) or end_a in range(start_b, end_b+1) or  start_b in range(start_a, end_a+1) or end_b in range(start_a, end_a+1):\n",
    "        overlap += 1\n",
    "\n",
    "overlap   "
   ]
  },
  {
   "cell_type": "code",
   "execution_count": null,
   "metadata": {},
   "outputs": [],
   "source": []
  }
 ],
 "metadata": {
  "kernelspec": {
   "display_name": "envtest",
   "language": "python",
   "name": "envtest"
  },
  "language_info": {
   "codemirror_mode": {
    "name": "ipython",
    "version": 3
   },
   "file_extension": ".py",
   "mimetype": "text/x-python",
   "name": "python",
   "nbconvert_exporter": "python",
   "pygments_lexer": "ipython3",
   "version": "3.10.2"
  },
  "orig_nbformat": 4,
  "vscode": {
   "interpreter": {
    "hash": "9628f19f61b1694847a00a802a777673c54c16244b0b61f25ea1780659e04904"
   }
  }
 },
 "nbformat": 4,
 "nbformat_minor": 2
}
