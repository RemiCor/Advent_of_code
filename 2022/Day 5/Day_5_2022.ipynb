{
 "cells": [
  {
   "cell_type": "code",
   "execution_count": 12,
   "metadata": {},
   "outputs": [],
   "source": [
    "import re\n",
    "with open('input.txt', 'r') as file:\n",
    "    stack_txt, instruction = file.read().split('\\n\\n')\n",
    "    stack_txt = stack_txt.split('\\n')\n",
    "    instruction = instruction.split('\\n')\n",
    "\n",
    "stack_last = stack_txt.pop()"
   ]
  },
  {
   "cell_type": "code",
   "execution_count": 14,
   "metadata": {},
   "outputs": [
    {
     "name": "stdout",
     "output_type": "stream",
     "text": [
      "JDTMRWCQJ"
     ]
    }
   ],
   "source": [
    "stack = {}\n",
    "loc = {}\n",
    "ordering = []\n",
    "for i in range(len(stack_last)):\n",
    "    if stack_last[i] != ' ':\n",
    "        stack[stack_last[i]] = []\n",
    "        loc[stack_last[i]] = i\n",
    "        ordering.append(stack_last[i])\n",
    "\n",
    "for line in reversed(stack_txt):\n",
    "    for key in loc.keys():\n",
    "        if line[loc[key]] != ' ':\n",
    "            stack[key].append(line[loc[key]])\n",
    "\n",
    "for line in instruction:\n",
    "    if 'move' in line:\n",
    "        inst_value = re.findall(r'(\\d+)', line)\n",
    "        count = int(inst_value[0])\n",
    "        ff = inst_value[1]\n",
    "        tt = inst_value[2]\n",
    "\n",
    "        for i in range(count):\n",
    "            pop_val = stack[ff].pop()\n",
    "            stack[tt].append(pop_val)\n",
    "\n",
    "for i in ordering:\n",
    "    print(stack[i][-1], end = '')"
   ]
  },
  {
   "cell_type": "code",
   "execution_count": null,
   "metadata": {},
   "outputs": [],
   "source": []
  }
 ],
 "metadata": {
  "kernelspec": {
   "display_name": "envtest",
   "language": "python",
   "name": "envtest"
  },
  "language_info": {
   "codemirror_mode": {
    "name": "ipython",
    "version": 3
   },
   "file_extension": ".py",
   "mimetype": "text/x-python",
   "name": "python",
   "nbconvert_exporter": "python",
   "pygments_lexer": "ipython3",
   "version": "3.10.2"
  },
  "orig_nbformat": 4,
  "vscode": {
   "interpreter": {
    "hash": "9628f19f61b1694847a00a802a777673c54c16244b0b61f25ea1780659e04904"
   }
  }
 },
 "nbformat": 4,
 "nbformat_minor": 2
}
